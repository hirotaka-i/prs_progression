{
 "cells": [
  {
   "cell_type": "markdown",
   "id": "0657341d-938d-4296-a252-d388c4aea2c0",
   "metadata": {},
   "source": [
    "# Preparations"
   ]
  },
  {
   "cell_type": "code",
   "execution_count": 7,
   "id": "a9450993-5b3f-4e85-bf3c-57e942642464",
   "metadata": {},
   "outputs": [],
   "source": [
    "# imports\n",
    "import os\n",
    "import glob\n",
    "import pandas as pd\n",
    "\n",
    "# parameters\n",
    "wkdir=\"/data/CARD/projects/prs_prog\"\n",
    "prs_ref=f'{wkdir}/PD_meta_analysis_PDGENE_PDWBS/PD_meta_analysis_PDGENE_PDWBS.txt' \n",
    "pathway_folder=f'{wkdir}/pathways_extract_hg19' # provided by manuela\n",
    "prsfolder=f'{wkdir}/prs'\n",
    "resfolder=f'{wkdir}/report'\n",
    "exclusion_regions='/data/CARD/GENERAL/exclusion_regions_hg19.txt' # stored in the common resource\n",
    "\n",
    "plink2='/data/CARD/PD/AMP-PD/Plink/plink2_dev_June8/plink2'\n",
    "prsice2='/data/CARD/projects/prs_prog/PRSice_linux'\n",
    "\n",
    "pathways=['endocytosis', 'adaptive_immune', 'innate_immune', 'lysosome', \n",
    "          'mitochondria', 'microglia', 'monocytes', 'alpha_synuclein']\n",
    "\n",
    "datasets=['PRECEPT', 'DATATOP','CORIELL', 'DIGPD_chip', 'DIGPD_neuroX',\n",
    "          'PICNICS', 'SCOPA', 'PARKWEST', 'PARKFIT']\n",
    "\n",
    "cohort_dic = {'PRECEPT':'PreCEPT_PostCEPT', 'DATATOP':'DATATOP', \n",
    "              'CORIELL':'NET_PD_LS1', 'PICNICS':'PICNICS', \n",
    "              'DIGPD_chip':'DIGPD', 'DIGPD_neuroX':'DIGPD', \n",
    "              'SCOPA':'PROPARK', 'PARKWEST':'PARKWEST', 'PARKFIT':'PARKFIT'}\n",
    "\n",
    "outcome_dic={'AAO':'cs', 'pRBD':'cs',\n",
    "             'MDS_UPDRS2':'lt', 'MDS_UPDRS3':'lt', 'MOCA':'lt',\n",
    "             'HY3':'surv', 'MCI':'surv'}"
   ]
  },
  {
   "cell_type": "code",
   "execution_count": 8,
   "id": "ca0bed4c-16d5-41a3-af49-0c646d2be0d5",
   "metadata": {},
   "outputs": [
    {
     "name": "stdout",
     "output_type": "stream",
     "text": [
      "adaptive_immune_extract.txt  lysosome_extract.txt\n",
      "alpha_synuclein_extract.txt  microglia_extract.txt\n",
      "endocytosis_extract.txt      mitochondria_extract.txt\n",
      "innate_immune_extract.txt    monocytes_extract.txt\n"
     ]
    }
   ],
   "source": [
    "ls {pathway_folder}"
   ]
  },
  {
   "cell_type": "code",
   "execution_count": 9,
   "id": "97c496b9-fa39-4fd1-9131-37d3d23f7c3e",
   "metadata": {},
   "outputs": [
    {
     "name": "stdout",
     "output_type": "stream",
     "text": [
      "PD_meta_analysis_PDGENE_PDWBS.txt  Readme.txt\n"
     ]
    }
   ],
   "source": [
    "!ls {wkdir}/PD_meta_analysis_PDGENE_PDWBS/"
   ]
  },
  {
   "cell_type": "code",
   "execution_count": 10,
   "id": "c09fda30-ec24-4f2e-9f38-f60589b8a219",
   "metadata": {},
   "outputs": [
    {
     "name": "stdout",
     "output_type": "stream",
     "text": [
      "CHR\tBP\tA1\tA2\tSNP\tP\tOR\n",
      "4\t15753299\tG\tA\t4:15753299\t2.27e-08\t0.9059999999999999\n",
      "4\t80878580\tC\tT\t4:80878580\t0.0137\t0.9670000000000001\n",
      "4\t77269262\tG\tA\t4:77269262\t8.809999999999999e-09\t0.93\n",
      "4\t90643051\tA\tC\t4:90643051\t1.46e-42\t1.344\n",
      "4\t77147513\tA\tG\t4:77147513\t7.52e-09\t1.11\n",
      "4\t15694890\tG\tA\t4:15694890\t1.26e-05\t0.9490000000000001\n",
      "4\t90448417\tA\tC\t4:90448417\t3.14e-06\t1.068\n",
      "4\t941017\tT\tC\t4:941017\t1.73e-14\t0.9079999999999999\n",
      "4\t90833421\tG\tA\t4:90833421\t1.67e-08\t0.9309999999999999\n"
     ]
    }
   ],
   "source": [
    "ref = pd.read_csv(prs_ref, sep = \"\\t\", engine='c')\n",
    "ref['SNP'] = ref.CHR.astype('str') + ':' + ref.BP.astype('str')\n",
    "ref['P'] = ref['P.META']\n",
    "ref['OR'] = ref['OR.META']\n",
    "ref[['CHR', 'BP', 'A1', 'A2', 'SNP', 'P', 'OR']].to_csv(f'{wkdir}/prs_base.txt', sep='\\t',\n",
    "                                                        index=False)\n",
    "!head {wkdir}/prs_base.txt"
   ]
  },
  {
   "cell_type": "markdown",
   "id": "632ff66f-7ee3-4b46-b27a-50c059c8e172",
   "metadata": {},
   "source": [
    "# Create pathway specific PRS\n",
    "Using createPRS.py"
   ]
  },
  {
   "cell_type": "code",
   "execution_count": 11,
   "id": "89e01985-71c1-4136-89cc-9fdef2f34c86",
   "metadata": {},
   "outputs": [],
   "source": [
    "with open ('createPRS.swarm', 'w') as f:\n",
    "    for pathway in pathways:\n",
    "        for dataset in datasets:\n",
    "            f.write(f'python3 createPRS.py --pathway {pathway} --dataset {dataset}\\n')"
   ]
  },
  {
   "cell_type": "code",
   "execution_count": 12,
   "id": "37d97b33-d5a8-40f8-b985-7056d6040e36",
   "metadata": {},
   "outputs": [
    {
     "name": "stdout",
     "output_type": "stream",
     "text": [
      "Loading modules R/4.1.0\n",
      "72 commands run in 36 subjobs, each command requiring 10 gb and 1 thread, packing 2 processes simultaneously per subjob, allocating 36 cores and 72 cpus\n",
      "sbatch --array=0-35 --job-name=\"swarm\" --output=/dev/null --error=/dev/null --cpus-per-task=2 --mem=20480 --partition=norm --time=60:00 /spin1/swarm/iwakih2/rP9igKG3A9/swarm.batch\n"
     ]
    }
   ],
   "source": [
    "!swarm -f createPRS.swarm --time=1:00:00 -g 10 -p 2 -b 1 --logdir swarm --module=R/4.1.0 --partition=norm  --devel # 21357529 # quick cannot use the plink2 AVX version"
   ]
  },
  {
   "cell_type": "code",
   "execution_count": 6,
   "id": "769bc107-96c1-410c-be9c-cfe2bfed0dd9",
   "metadata": {},
   "outputs": [],
   "source": [
    "# !jobhist 21357529"
   ]
  },
  {
   "cell_type": "markdown",
   "id": "acf8df12-f4e3-4db6-bb4b-88c26a4c7432",
   "metadata": {},
   "source": [
    "# Standardize the PRS\n",
    "PRS with the largest threshold among p<0.05 were used for the analysis. The PRS were normalized.\n"
   ]
  },
  {
   "cell_type": "code",
   "execution_count": 24,
   "id": "1449a4e3-8e85-4deb-b59a-048c47e3b30a",
   "metadata": {},
   "outputs": [],
   "source": [
    "t=pd.DataFrame(columns=[\n",
    "    'p_threshold_closest_to_0.05', 'n_snps', 'pathway', 'dataset'\n",
    "])\n",
    "for pathway in pathways:\n",
    "    for dataset in datasets:\n",
    "        prsfile = f'{wkdir}/temp/{pathway}/{dataset}/res.prsice'\n",
    "        if os.path.exists(prsfile):\n",
    "            d = pd.read_csv(prsfile, sep='\\t')\n",
    "            pthres=max(d.Threshold[d.Threshold<0.05])\n",
    "            nsnp = d.loc[d.Threshold==pthres,'Num_SNP'].values[0]\n",
    "            t.loc[len(t),:]=[pthres, nsnp, pathway, dataset]\n",
    "\n",
    "            pthres_format=format(pthres, '.12g')\n",
    "            cname=f'Pt_{pthres_format}'\n",
    "            d = pd.read_csv(f'{wkdir}/temp/{pathway}/{dataset}/res.all_score',\n",
    "                            delim_whitespace=True)\n",
    "            x = d[cname]\n",
    "            d['PRS_z'] = (x - x.mean())/d[cname].std()\n",
    "            d[['IID', 'PRS_z']].to_csv(f'{prsfolder}/{pathway}.{dataset}.csv',\n",
    "                                       index=False)\n",
    "        else:\n",
    "            print(f'[{pathway:15s}] specific PRS unavailable for [{dataset:15s}]')\n"
   ]
  },
  {
   "cell_type": "code",
   "execution_count": 26,
   "id": "b2b9e65a-4a23-4c1e-9e34-ffa7da47e30a",
   "metadata": {},
   "outputs": [],
   "source": [
    "t.to_csv(f'{resfolder}/n_snps_in_pathwayPRS_summary.tab', sep='\\t', index=False)"
   ]
  },
  {
   "cell_type": "markdown",
   "id": "2c639242-dbc0-4c32-91ee-ab1d3d1ed6eb",
   "metadata": {},
   "source": [
    "# Analyze against outcomes\n",
    "\n",
    "Use analyzePRS.R"
   ]
  },
  {
   "cell_type": "code",
   "execution_count": 27,
   "id": "1983767e-5c15-47e6-a197-05233790b605",
   "metadata": {},
   "outputs": [],
   "source": [
    "# !ls /data/CARD/projects/prs_prog/report/\n",
    "# !rm /data/CARD/projects/prs_prog/report/lt.csv /data/CARD/projects/prs_prog/report/cs.csv /data/CARD/projects/prs_prog/report/surv.csv"
   ]
  },
  {
   "cell_type": "code",
   "execution_count": 28,
   "id": "facf15a3-aa97-494c-b103-2ed12ea51ec7",
   "metadata": {},
   "outputs": [],
   "source": [
    "# !Rscript --vanilla analyzePRS.R PRECEPT PreCEPT_PostCEPT endocytosis AAO cs\n",
    "# !Rscript --vanilla analyzePRS.R PRECEPT PreCEPT_PostCEPT endocytosis MDS_UPDRS3 lt\n",
    "# !Rscript --vanilla analyzePRS.R PRECEPT PreCEPT_PostCEPT endocytosis HY3 surv"
   ]
  },
  {
   "cell_type": "code",
   "execution_count": 29,
   "id": "92118f1d-faa9-4989-a02b-a92165cd7845",
   "metadata": {},
   "outputs": [],
   "source": [
    "with open ('analyzePRS.swarm', 'w') as f:\n",
    "    for pathway in pathways:\n",
    "        for dataset, cohort in cohort_dic.items():\n",
    "            for outcome, model in outcome_dic.items():\n",
    "                f.write(f'Rscript --vanilla analyzePRS.R {dataset} {cohort} {pathway} {outcome} {model}\\n')"
   ]
  },
  {
   "cell_type": "code",
   "execution_count": 30,
   "id": "d155ce40-fa99-4de8-a602-cdc213a25c35",
   "metadata": {},
   "outputs": [
    {
     "name": "stdout",
     "output_type": "stream",
     "text": [
      "Loading modules R/4.1.0\n",
      "504 commands run in 7 subjobs, each command requiring 5 gb and 1 thread, packing 2 processes simultaneously per subjob, running 40 processes serially per subjob, allocating 7 cores and 14 cpus\n",
      "sbatch --array=0-6 --job-name=\"swarm\" --output=/dev/null --error=/dev/null --cpus-per-task=2 --mem=10240 --partition=quick --time=01:20:00 /spin1/swarm/iwakih2/GevcDplvBV/swarm.batch\n"
     ]
    }
   ],
   "source": [
    "!swarm -f analyzePRS.swarm --time=0:02:00 -g 5 -p 2 -b 40 --logdir swarm --module=R/4.1.0 --partition=quick --devel # 21419977"
   ]
  },
  {
   "cell_type": "code",
   "execution_count": 31,
   "id": "7d25bc5c-4436-4e97-bf31-e7746060d656",
   "metadata": {},
   "outputs": [],
   "source": [
    "# !jobhist 21419977"
   ]
  },
  {
   "cell_type": "code",
   "execution_count": 32,
   "id": "6fe888fd-a60a-4aa1-9948-4495d672c06a",
   "metadata": {},
   "outputs": [],
   "source": [
    "import pandas as pd\n",
    "cs=pd.read_csv(f'{resfolder}/cs.csv')\n",
    "lt=pd.read_csv(f'{resfolder}/lt.csv')\n",
    "sv=pd.read_csv(f'{resfolder}/surv.csv')"
   ]
  },
  {
   "cell_type": "markdown",
   "id": "7e356cf2-e609-4302-8a4a-6a16f460edd6",
   "metadata": {},
   "source": [
    "# Explanation of report folders\n",
    "* n_snps_in_pathwayPRS_summary.tab: summary for the created PRS\n",
    "* results of the pathway specific PRS analysis (separated by used models) --> cs.csv, lt.csv, surv.csv"
   ]
  },
  {
   "cell_type": "code",
   "execution_count": 33,
   "id": "6f3c4e96-f4ae-4f21-ad47-9032217576b1",
   "metadata": {},
   "outputs": [
    {
     "name": "stdout",
     "output_type": "stream",
     "text": [
      "cs.csv\tlt.csv\tn_snps_in_pathwayPRS_summary.tab  surv.csv\n"
     ]
    }
   ],
   "source": [
    "!ls /data/CARD/projects/prs_prog/report/"
   ]
  },
  {
   "cell_type": "code",
   "execution_count": 34,
   "id": "9add6ccd-0ee5-4739-898b-d17098b6407e",
   "metadata": {},
   "outputs": [],
   "source": [
    "# !rm /data/CARD/projects/prs_prog/temp"
   ]
  },
  {
   "cell_type": "code",
   "execution_count": 36,
   "id": "c23b51c7-df38-45d0-9fcd-42b93073379b",
   "metadata": {},
   "outputs": [],
   "source": [
    "!rm -rf swarm"
   ]
  }
 ],
 "metadata": {
  "kernelspec": {
   "display_name": "Python 3",
   "language": "python",
   "name": "python3"
  },
  "language_info": {
   "codemirror_mode": {
    "name": "ipython",
    "version": 3
   },
   "file_extension": ".py",
   "mimetype": "text/x-python",
   "name": "python",
   "nbconvert_exporter": "python",
   "pygments_lexer": "ipython3",
   "version": "3.6.7"
  }
 },
 "nbformat": 4,
 "nbformat_minor": 5
}
